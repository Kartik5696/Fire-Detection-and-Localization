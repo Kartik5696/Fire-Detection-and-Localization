{
 "cells": [
  {
   "cell_type": "code",
   "execution_count": null,
   "metadata": {},
   "outputs": [],
   "source": [
    "!pip install playsound"
   ]
  },
  {
   "cell_type": "code",
   "execution_count": null,
   "metadata": {},
   "outputs": [],
   "source": [
    "import cv2\n",
    "import numpy as np\n",
    "import smtplib\n",
    "import playsound\n",
    "import threading"
   ]
  },
  {
   "cell_type": "code",
   "execution_count": null,
   "metadata": {},
   "outputs": [],
   "source": [
    "Alarm_Status = False\n",
    "Email_Status = False\n",
    "Fire_Reported = 0"
   ]
  },
  {
   "cell_type": "code",
   "execution_count": null,
   "metadata": {},
   "outputs": [],
   "source": [
    "def play_alarm_sound_function():\n",
    "    while True:\n",
    "        playsound.playsound('Alarm Sound.mp3',True)"
   ]
  },
  {
   "cell_type": "code",
   "execution_count": null,
   "metadata": {},
   "outputs": [],
   "source": [
    "def send_mail_function():\n",
    "\n",
    "    recipientEmail = \"kartik.sojitra96016@gmail.com\"\n",
    "    recipientEmail = recipientEmail.lower()\n",
    "\n",
    "    try:\n",
    "        server = smtplib.SMTP('smtp.gmail.com', 587)\n",
    "        server.ehlo()\n",
    "        server.starttls()\n",
    "        server.login(\"kartik.sojitra5@gmail.com\", 'Password')\n",
    "        server.sendmail('kartik.sojitra5@gmail.com', \"kartik.sojitra96016@gmail.com\", \"Warning A Fire Accident has been reported on XYZ Company\")\n",
    "        print(\"sent to {}\".format(recipientEmail))\n",
    "        server.close()\n",
    "    except Exception as e:print(e)"
   ]
  },
  {
   "cell_type": "code",
   "execution_count": null,
   "metadata": {},
   "outputs": [],
   "source": [
    "video = cv2.VideoCapture(\"Video.mp4\") # If you want to use webcam use Index like 0,1."
   ]
  },
  {
   "cell_type": "code",
   "execution_count": null,
   "metadata": {},
   "outputs": [],
   "source": [
    "while True:\n",
    "    (grabbed, frame) = video.read()\n",
    "    if not grabbed:\n",
    "        break\n",
    "\n",
    "    frame = cv2.resize(frame, (960, 540)) \n",
    " \n",
    "    blur = cv2.GaussianBlur(frame, (21, 21), 0)\n",
    "    hsv = cv2.cvtColor(blur, cv2.COLOR_BGR2HSV)\n",
    " \n",
    "    lower = [18, 50, 50]\n",
    "    upper = [35, 255, 255]\n",
    "    lower = np.array(lower, dtype=\"uint8\")\n",
    "    upper = np.array(upper, dtype=\"uint8\")\n",
    "\n",
    "    mask = cv2.inRange(hsv, lower, upper)\n",
    " \n",
    "    output = cv2.bitwise_and(frame, hsv, mask=mask)\n",
    "    \n",
    "    no_red = cv2.countNonZero(mask)\n",
    "    if int(no_red) > 15000:\n",
    "        Fire_Reported = Fire_Reported + 1\n",
    "        cv2.imshow(\"output\", output)\n",
    "        if Fire_Reported >= 1:\n",
    "            if Alarm_Status == False:\n",
    "                threading.Thread(target=play_alarm_sound_function).start()\n",
    "                Alarm_Status = True\n",
    "                if Email_Status == False:\n",
    "                    threading.Thread(target=send_mail_function).start()\n",
    "                    Email_Status = True\n",
    "                    if cv2.waitKey(1) & 0xFF == ord('q'):\n",
    "                          break"
   ]
  },
  {
   "cell_type": "code",
   "execution_count": null,
   "metadata": {},
   "outputs": [],
   "source": [
    "cv2.destroyAllWindows()\n",
    "video.release()"
   ]
  }
 ],
 "metadata": {
  "kernelspec": {
   "display_name": "Python 3",
   "language": "python",
   "name": "python3"
  },
  "language_info": {
   "codemirror_mode": {
    "name": "ipython",
    "version": 3
   },
   "file_extension": ".py",
   "mimetype": "text/x-python",
   "name": "python",
   "nbconvert_exporter": "python",
   "pygments_lexer": "ipython3",
   "version": "3.8.5"
  }
 },
 "nbformat": 4,
 "nbformat_minor": 4
}
